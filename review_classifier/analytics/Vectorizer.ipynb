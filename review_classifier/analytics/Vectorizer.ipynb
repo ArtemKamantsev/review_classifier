{
 "cells": [
  {
   "cell_type": "code",
   "execution_count": 6,
   "outputs": [],
   "source": [
    "from joblib import dump\n",
    "from scipy.sparse import save_npz\n",
    "from sklearn.feature_extraction.text import CountVectorizer, HashingVectorizer\n",
    "\n",
    "from service.utils import read_data"
   ],
   "metadata": {
    "collapsed": false,
    "pycharm": {
     "name": "#%%\n"
    }
   }
  },
  {
   "cell_type": "code",
   "execution_count": 2,
   "outputs": [],
   "source": [
    "df = read_data()"
   ],
   "metadata": {
    "collapsed": false,
    "pycharm": {
     "name": "#%%\n"
    }
   }
  },
  {
   "cell_type": "code",
   "execution_count": 5,
   "outputs": [
    {
     "data": {
      "text/plain": "(1000000, 3)"
     },
     "execution_count": 5,
     "metadata": {},
     "output_type": "execute_result"
    }
   ],
   "source": [
    "df_small = df.iloc[:1000000]\n",
    "df_small.shape"
   ],
   "metadata": {
    "collapsed": false,
    "pycharm": {
     "name": "#%%\n"
    }
   }
  },
  {
   "cell_type": "code",
   "execution_count": 8,
   "outputs": [],
   "source": [
    "experement_id = 20"
   ],
   "metadata": {
    "collapsed": false,
    "pycharm": {
     "name": "#%%\n"
    }
   }
  },
  {
   "cell_type": "code",
   "execution_count": 7,
   "outputs": [],
   "source": [
    "vectorizer = CountVectorizer(\n",
    "                       strip_accents = 'unicode',\n",
    "                       lowercase = True,\n",
    "                       stop_words = 'english',\n",
    "                       token_pattern=r'(?u)(\\b[a-z]{2,}\\b|[\\u263a-\\U0001f645])',\n",
    "                       ngram_range=(1, 2),\n",
    "                       min_df = 1000,\n",
    "                       binary=True)"
   ],
   "metadata": {
    "collapsed": false,
    "pycharm": {
     "name": "#%%\n"
    }
   }
  },
  {
   "cell_type": "code",
   "execution_count": 70,
   "outputs": [],
   "source": [
    "#TODO\n",
    "# n_gram_grange +\n",
    "# n_features\n",
    "# norm\n",
    "# alternate_sign\n",
    "vectorizer = HashingVectorizer(\n",
    "                       strip_accents = 'unicode',\n",
    "                       lowercase = True,\n",
    "                       stop_words = 'english',\n",
    "                       token_pattern=r'(?u)(\\b[a-z]{2,}\\b|[\\u263a-\\U0001f645])',\n",
    "                       ngram_range=(1, 3),\n",
    "                       n_features=2 ** 30,\n",
    "                       binary=True,\n",
    "                        alternate_sign=False,\n",
    ")"
   ],
   "metadata": {
    "collapsed": false,
    "pycharm": {
     "name": "#%%\n"
    }
   }
  },
  {
   "cell_type": "code",
   "execution_count": 9,
   "outputs": [
    {
     "data": {
      "text/plain": "['./models/vectorizer_20.sav']"
     },
     "execution_count": 9,
     "metadata": {},
     "output_type": "execute_result"
    }
   ],
   "source": [
    "dump(vectorizer, f'./models/vectorizer_{experement_id}.sav')"
   ],
   "metadata": {
    "collapsed": false,
    "pycharm": {
     "name": "#%%\n"
    }
   }
  },
  {
   "cell_type": "code",
   "execution_count": 8,
   "outputs": [],
   "source": [
    "text_vectorized = vectorizer.fit_transform(df['text'])"
   ],
   "metadata": {
    "collapsed": false,
    "pycharm": {
     "name": "#%%\n"
    }
   }
  },
  {
   "cell_type": "code",
   "execution_count": 9,
   "outputs": [
    {
     "data": {
      "text/plain": "(25000000, 2525)"
     },
     "execution_count": 9,
     "metadata": {},
     "output_type": "execute_result"
    }
   ],
   "source": [
    "text_vectorized.shape"
   ],
   "metadata": {
    "collapsed": false,
    "pycharm": {
     "name": "#%%\n"
    }
   }
  },
  {
   "cell_type": "code",
   "execution_count": null,
   "outputs": [],
   "source": [
    "dump(vectorizer.vocabulary_, f'./models/vocabulary_{experement_id}.sav')"
   ],
   "metadata": {
    "collapsed": false,
    "pycharm": {
     "name": "#%%\n"
    }
   }
  },
  {
   "cell_type": "code",
   "execution_count": 12,
   "outputs": [],
   "source": [
    "save_npz(f'../local_data/data_vectorized_{experement_id}.npz', text_vectorized)"
   ],
   "metadata": {
    "collapsed": false,
    "pycharm": {
     "name": "#%%\n"
    }
   }
  },
  {
   "cell_type": "code",
   "execution_count": 20,
   "outputs": [
    {
     "name": "stdout",
     "output_type": "stream",
     "text": [
      "1\n"
     ]
    }
   ],
   "source": [
    "df.to_csv('../local_data/data_labels.csv', columns=['labels'])"
   ],
   "metadata": {
    "collapsed": false,
    "pycharm": {
     "name": "#%%\n"
    }
   }
  },
  {
   "cell_type": "code",
   "execution_count": null,
   "outputs": [],
   "source": [
    "#Small model"
   ],
   "metadata": {
    "collapsed": false,
    "pycharm": {
     "name": "#%%\n"
    }
   }
  },
  {
   "cell_type": "code",
   "execution_count": 14,
   "outputs": [],
   "source": [
    "text_vectorized = vectorizer.fit_transform(df_small['text'])"
   ],
   "metadata": {
    "collapsed": false,
    "pycharm": {
     "name": "#%%\n"
    }
   }
  },
  {
   "cell_type": "code",
   "execution_count": 15,
   "outputs": [
    {
     "data": {
      "text/plain": "(1000000, 8984)"
     },
     "execution_count": 15,
     "metadata": {},
     "output_type": "execute_result"
    }
   ],
   "source": [
    "text_vectorized.shape"
   ],
   "metadata": {
    "collapsed": false,
    "pycharm": {
     "name": "#%%\n"
    }
   }
  },
  {
   "cell_type": "code",
   "execution_count": null,
   "outputs": [],
   "source": [
    "dump(vectorizer.vocabulary_, f'./models/vocabulary_{experement_id}.sav')"
   ],
   "metadata": {
    "collapsed": false,
    "pycharm": {
     "name": "#%%\n"
    }
   }
  },
  {
   "cell_type": "code",
   "execution_count": 16,
   "outputs": [],
   "source": [
    "save_npz(f'../local_data/data_vectorized_{experement_id}.npz', text_vectorized)"
   ],
   "metadata": {
    "collapsed": false,
    "pycharm": {
     "name": "#%%\n"
    }
   }
  },
  {
   "cell_type": "code",
   "execution_count": 19,
   "outputs": [
    {
     "name": "stdout",
     "output_type": "stream",
     "text": [
      "1\n"
     ]
    }
   ],
   "source": [
    "df_small.to_csv('../local_data/data_labels_small.csv', columns=['labels'])"
   ],
   "metadata": {
    "collapsed": false,
    "pycharm": {
     "name": "#%%\n"
    }
   }
  },
  {
   "cell_type": "code",
   "execution_count": 85,
   "outputs": [],
   "source": [
    "#Display features"
   ],
   "metadata": {
    "collapsed": false,
    "pycharm": {
     "name": "#%%\n"
    }
   }
  },
  {
   "cell_type": "code",
   "execution_count": 21,
   "outputs": [
    {
     "data": {
      "text/plain": "MultinomialNB()"
     },
     "execution_count": 21,
     "metadata": {},
     "output_type": "execute_result"
    }
   ],
   "source": [
    "from sklearn.naive_bayes import MultinomialNB\n",
    "\n",
    "model = MultinomialNB()\n",
    "model.fit(text_vectorized, df_small['labels'])"
   ],
   "metadata": {
    "collapsed": false,
    "pycharm": {
     "name": "#%%\n"
    }
   }
  },
  {
   "cell_type": "code",
   "execution_count": 22,
   "outputs": [
    {
     "data": {
      "text/plain": "[(-15.393734751537409, 'app garbage'),\n (-14.2951224628693, 'absolute garbage'),\n (-14.2951224628693, 'garbage app'),\n (-14.2951224628693, 'worst experience'),\n (-14.2951224628693, 'zero star'),\n (-14.007440390417518, 'dont install'),\n (-13.784296839103309, 'absolute trash'),\n (-13.784296839103309, 'app trash'),\n (-13.784296839103309, 'horrible experience'),\n (-13.784296839103309, 'negative stars'),\n (-13.601975282309354, 'app broken'),\n (-13.601975282309354, 'garbage game'),\n (-13.601975282309354, 'horrible customer'),\n (-13.601975282309354, 'scam game'),\n (-13.601975282309354, 'worst customer'),\n (-13.447824602482095, 'app horrible'),\n (-13.447824602482095, 'bbt'),\n (-13.447824602482095, 'suntrust app'),\n (-13.447824602482095, 'useless app'),\n (-13.314293209857572, 'app worst'),\n (-13.314293209857572, 'avoid game'),\n (-13.314293209857572, 'crooks'),\n (-13.314293209857572, 'game 👎'),\n (-13.314293209857572, 'horrible app'),\n (-13.314293209857572, 'terrible app'),\n (-13.314293209857572, 'total waste'),\n (-13.314293209857572, 'wrost'),\n (-13.314293209857572, '🗑'),\n (-13.196510174201189, 'absolutely horrible'),\n (-13.196510174201189, 'app waste'),\n (-13.196510174201189, 'completely useless'),\n (-13.196510174201189, 'stupid app'),\n (-13.196510174201189, 'trash app'),\n (-13.091149658543362, 'complete waste'),\n (-13.091149658543362, 'review deleted'),\n (-13.091149658543362, 'waste data'),\n (-13.091149658543362, 'worse game'),\n (-12.995839478739038, 'care money'),\n (-12.995839478739038, 'lawsuit'),\n (-12.995839478739038, 'terms conditions'),\n (-12.908828101749409, 'absolutely terrible'),\n (-12.908828101749409, 'bb app'),\n (-12.908828101749409, 'fake app'),\n (-12.908828101749409, 'game rip'),\n (-12.908828101749409, 'game scam'),\n (-12.908828101749409, 'poor game'),\n (-12.908828101749409, 'pos'),\n (-12.908828101749409, 'suntrust'),\n (-12.908828101749409, 'utter'),\n (-12.908828101749409, 'zero stars'),\n (-12.828785394075872, 'ashamed'),\n (-12.828785394075872, 'deceptive'),\n (-12.828785394075872, 'fake game'),\n (-12.828785394075872, 'false advertisement'),\n (-12.828785394075872, 'paid ads'),\n (-12.828785394075872, 'trash game'),\n (-12.828785394075872, 'useless game'),\n (-12.75467742192215, 'app sucks'),\n (-12.75467742192215, 'app terrible'),\n (-12.75467742192215, 'bad 👎'),\n (-12.75467742192215, 'bogus'),\n (-12.75467742192215, 'constantly freezes'),\n (-12.75467742192215, 'contacted customer'),\n (-12.75467742192215, 'doesn care'),\n (-12.75467742192215, 'locked account'),\n (-12.685684550435198, 'app useless'),\n (-12.685684550435198, 'crashes everytime'),\n (-12.685684550435198, 'game joke'),\n (-12.685684550435198, 'horrible game'),\n (-12.685684550435198, 'scamming'),\n (-12.685684550435198, 'steal money'),\n (-12.685684550435198, 'thieves'),\n (-12.685684550435198, 'worse worse'),\n (-12.621146029297627, 'absolutely ridiculous'),\n (-12.621146029297627, 'bakwas'),\n (-12.621146029297627, 'game advertised'),\n (-12.621146029297627, 'game horrible'),\n (-12.621146029297627, 'poor customer'),\n (-12.621146029297627, 'service help'),\n (-12.621146029297627, 'sign app'),\n (-12.621146029297627, 'tried contact'),\n (-12.560521407481193, 'blatant'),\n (-12.560521407481193, 'bringbackfests'),\n (-12.560521407481193, 'fraudulent'),\n (-12.560521407481193, 'grab game'),\n (-12.560521407481193, 'load past'),\n (-12.560521407481193, 'need access'),\n (-12.560521407481193, 'truist'),\n (-12.503362993641243, 'change password'),\n (-12.503362993641243, 'dont waste'),\n (-12.503362993641243, 'eth'),\n (-12.503362993641243, 'game 😡'),\n (-12.503362993641243, 'let login'),\n (-12.503362993641243, 'lousy'),\n (-12.503362993641243, 'need refund'),\n (-12.503362993641243, 'taking money'),\n (-12.503362993641243, 'time waste'),\n (-12.449295772370968, 'delete account'),\n (-12.449295772370968, 'don trust'),\n (-12.449295772370968, 'gets worse'),\n (-12.449295772370968, 'illegal'),\n (-12.449295772370968, 'just waste'),\n (-12.449295772370968, 'let install'),\n (-12.449295772370968, 'worst app'),\n (-12.398002477983418, 'dont bother'),\n (-12.398002477983418, 'dont download'),\n (-12.398002477983418, 'longer fun'),\n (-12.398002477983418, 'refund game'),\n (-12.398002477983418, 'reinstalled times'),\n (-12.398002477983418, 'spend hundreds'),\n (-12.398002477983418, 'unable use'),\n (-12.398002477983418, '😡 😤'),\n (-12.349212313813986, 'coinbase wallet'),\n (-12.349212313813986, 'error messages'),\n (-12.349212313813986, 'faltu'),\n (-12.349212313813986, 'like refund'),\n (-12.349212313813986, 'phone calls'),\n (-12.349212313813986, 'robbed'),\n (-12.349212313813986, 'verification code'),\n (-12.349212313813986, 'waist time'),\n (-12.302692298179092, 'app load'),\n (-12.302692298179092, 'atrocious'),\n (-12.302692298179092, 'doesn start'),\n (-12.302692298179092, 'don install'),\n (-12.302692298179092, 'game cheats'),\n (-12.302692298179092, 'game worse'),\n (-12.302692298179092, 'log app'),\n (-12.302692298179092, 'login screen'),\n (-12.302692298179092, 'money grabbing'),\n (-12.302692298179092, 'reset password'),\n (-12.302692298179092, 'ticketmaster'),\n (-12.302692298179092, 'trying log'),\n (-12.258240535608259, 'cancel subscription'),\n (-12.258240535608259, 'connect internet'),\n (-12.258240535608259, 'dissatisfied'),\n (-12.258240535608259, 'gives error'),\n (-12.258240535608259, 'got banned'),\n (-12.258240535608259, 'gotten worse'),\n (-12.258240535608259, 'playing anymore'),\n (-12.258240535608259, 'riddled'),\n (-12.258240535608259, 'says internet'),\n (-12.258240535608259, 'sign account'),\n (-12.258240535608259, 'spend thousands'),\n (-12.258240535608259, 'unistalled'),\n (-12.258240535608259, 'work tried'),\n (-12.215680921189463, 'cancelling'),\n (-12.215680921189463, 'care players'),\n (-12.215680921189463, 'giving error'),\n (-12.215680921189463, 'make lose'),\n (-12.215680921189463, 'personal information'),\n (-12.215680921189463, 'suspended'),\n (-12.215680921189463, 'tried multiple'),\n (-12.215680921189463, 'waste game'),\n (-12.215680921189463, 'wouldn load'),\n (-12.174858926669208, 'forced watch'),\n (-12.174858926669208, 'game suck'),\n (-12.174858926669208, 'game worst'),\n (-12.174858926669208, 'just stupid'),\n (-12.174858926669208, 'send email'),\n (-12.174858926669208, 'supposedly'),\n (-12.174858926669208, 'unable connect'),\n (-12.174858926669208, 'won install'),\n (-12.135638213515927, 'able login'),\n (-12.135638213515927, 'app crashed'),\n (-12.135638213515927, 'decline'),\n (-12.135638213515927, 'fraud'),\n (-12.135638213515927, 'lied'),\n (-12.135638213515927, 'racist'),\n (-12.135638213515927, 'second ad'),\n (-12.135638213515927, 'time downloading'),\n (-12.135638213515927, 'update sucks'),\n (-12.09789788553308, 'ad level'),\n (-12.09789788553308, 'create character'),\n (-12.09789788553308, 'disaster'),\n (-12.09789788553308, 'game rigged'),\n (-12.09789788553308, 'game ruined'),\n (-12.09789788553308, 'just sits'),\n (-12.09789788553308, 'money dont'),\n (-12.09789788553308, 'past loading'),\n (-12.09789788553308, 'sucks don'),\n (-12.09789788553308, 'time watching'),\n (-12.09789788553308, 'wouldn work'),\n (-12.061530241362204, 'ads seconds'),\n (-12.061530241362204, 'bad graphics'),\n (-12.061530241362204, 'buffers'),\n (-12.061530241362204, 'connecting server'),\n (-12.061530241362204, 'create account'),\n (-12.061530241362204, 'declined'),\n (-12.061530241362204, 'dispute'),\n (-12.061530241362204, 'false advertising'),\n (-12.061530241362204, 'kept getting'),\n (-12.061530241362204, 'make impossible'),\n (-12.061530241362204, 'practices'),\n (-12.061530241362204, 'terrible game'),\n (-12.061530241362204, 'took money'),\n (-12.061530241362204, 'unsubscribe'),\n (-12.026438921550934, 'bullying'),\n (-12.026438921550934, 'contact customer'),\n (-12.026438921550934, 'crashes constantly'),\n (-12.026438921550934, 'developers don'),\n (-12.026438921550934, 'got response'),\n (-12.026438921550934, 'just stays'),\n (-12.026438921550934, 'money won'),\n (-12.026438921550934, 'open account'),\n (-12.026438921550934, 'order app'),\n (-12.026438921550934, 'refund money'),\n (-12.026438921550934, 'reinstalling app'),\n (-12.026438921550934, 'sux'),\n (-12.026438921550934, 'troubleshooting'),\n (-12.026438921550934, 'way contact'),\n (-11.992537369875253, 'account app'),\n (-11.992537369875253, 'ad ad'),\n (-11.992537369875253, 'connection lost'),\n (-11.992537369875253, 'constantly crashes'),\n (-11.992537369875253, 'customer care'),\n (-11.992537369875253, 'dissapointing'),\n (-11.992537369875253, 'doesn exist'),\n (-11.992537369875253, 'ignored'),\n (-11.992537369875253, 'just kept'),\n (-11.992537369875253, 'just spent'),\n (-11.992537369875253, 'longer works'),\n (-11.992537369875253, 'makes impossible'),\n (-11.992537369875253, 'making impossible'),\n (-11.992537369875253, 'merged'),\n (-11.992537369875253, 'noob game'),\n (-11.992537369875253, 'processed'),\n (-11.992537369875253, 'says country'),\n (-11.992537369875253, 'screen play'),\n (-11.992537369875253, 'sucking'),\n (-11.959747547052263, 'app wont'),\n (-11.959747547052263, 'chance winning'),\n (-11.959747547052263, 'didnt work'),\n (-11.959747547052263, 'does open'),\n (-11.959747547052263, 'extremely slow'),\n (-11.959747547052263, 'freezes time'),\n (-11.959747547052263, 'game broken'),\n (-11.959747547052263, 'just sucks'),\n (-11.959747547052263, 'let sign'),\n (-11.959747547052263, 'pathetic'),\n (-11.959747547052263, 'shady'),\n (-11.959747547052263, 'totally different'),\n (-11.959747547052263, 'tried use'),\n (-11.959747547052263, 'update did'),\n (-11.959747547052263, 'wasting money'),\n (-11.959747547052263, 'white screen'),\n (-11.959747547052263, 'win pay'),\n (-11.927998848737682, 'app doesnt'),\n (-11.927998848737682, 'buy buy'),\n (-11.927998848737682, 'buyer'),\n (-11.927998848737682, 'coins don'),\n (-11.927998848737682, 'deny'),\n (-11.927998848737682, 'dum'),\n (-11.927998848737682, 'expired'),\n (-11.927998848737682, 'going delete'),\n (-11.927998848737682, 'guess ll'),\n (-11.927998848737682, 'installing game'),\n (-11.927998848737682, 'kept saying'),\n (-11.927998848737682, 'minutes just'),\n (-11.927998848737682, 'purchase coins'),\n (-11.927998848737682, 'revenue'),\n (-11.927998848737682, 'takes money'),\n (-11.927998848737682, 'update open'),\n (-11.927998848737682, 'utterly'),\n (-11.927998848737682, 'work android'),\n (-11.897227190070929, 'bullies'),\n (-11.897227190070929, 'confirmed'),\n (-11.897227190070929, 'denied'),\n (-11.897227190070929, 'earned money'),\n (-11.897227190070929, 'extremely frustrating'),\n (-11.897227190070929, 'going uninstall'),\n (-11.897227190070929, 'load screen'),\n (-11.897227190070929, 'million coins'),\n (-11.897227190070929, 'removal'),\n (-11.897227190070929, 'spend lots'),\n (-11.897227190070929, 'unistall'),\n (-11.897227190070929, 'unskippable'),\n (-11.897227190070929, 'worst thing'),\n (-11.867374226921246, 'actually playing'),\n (-11.867374226921246, 'ad time'),\n (-11.867374226921246, 'ads playing'),\n (-11.867374226921246, 'allow play'),\n (-11.867374226921246, 'android update'),\n (-11.867374226921246, 'app longer'),\n (-11.867374226921246, 'app trying'),\n (-11.867374226921246, 'bad don'),\n (-11.867374226921246, 'behavior'),\n (-11.867374226921246, 'blank screen'),\n (-11.867374226921246, 'booted'),\n (-11.867374226921246, 'completely different'),\n (-11.867374226921246, 'does load'),\n (-11.867374226921246, 'downhill'),\n (-11.867374226921246, 'download just'),\n (-11.867374226921246, 'horribly'),\n (-11.867374226921246, 'refused'),\n (-11.867374226921246, 'ruins game'),\n (-11.867374226921246, 'scammed'),\n (-11.867374226921246, 'screen black'),\n (-11.867374226921246, 'tried reinstalling'),\n (-11.867374226921246, 'work right'),\n (-11.867374226921246, '💢'),\n (-11.838386690047995, 'account don'),\n (-11.838386690047995, 'app completely'),\n (-11.838386690047995, 'app stopped'),\n (-11.838386690047995, 'data game'),\n (-11.838386690047995, 'deleting app'),\n (-11.838386690047995, 'did receive'),\n (-11.838386690047995, 'does allow'),\n (-11.838386690047995, 'don load'),\n (-11.838386690047995, 'dont buy'),\n (-11.838386690047995, 'game disappointed'),\n (-11.838386690047995, 'game unfair'),\n (-11.838386690047995, 'isn worth'),\n (-11.838386690047995, 'keeps loading'),\n (-11.838386690047995, 'load just'),\n (-11.838386690047995, 'looked like'),\n (-11.838386690047995, 'lose coins'),\n (-11.838386690047995, 'make phone'),\n (-11.838386690047995, 'numerous times'),\n (-11.838386690047995, 'paid money'),\n (-11.838386690047995, 'people money'),\n (-11.838386690047995, 'stating'),\n (-11.838386690047995, 'super laggy'),\n (-11.838386690047995, 'taken away'),\n (-11.838386690047995, 'wast'),\n (-11.838386690047995, 'wasted time'),\n (-11.838386690047995, 'wouldn recommend'),\n (-11.8102158130813, 'app freezes'),\n (-11.8102158130813, 'canceling'),\n (-11.8102158130813, 'connect google'),\n (-11.8102158130813, 'crashing time'),\n (-11.8102158130813, 'dozens'),\n (-11.8102158130813, 'error occurred'),\n (-11.8102158130813, 'festival'),\n (-11.8102158130813, 'game trash'),\n (-11.8102158130813, 'hate app'),\n (-11.8102158130813, 'login account'),\n (-11.8102158130813, 'lost data'),\n (-11.8102158130813, 'order play'),\n (-11.8102158130813, 'point playing'),\n (-11.8102158130813, 'progress lost'),\n (-11.8102158130813, 'reading reviews'),\n (-11.8102158130813, 'spends'),\n (-11.8102158130813, 'unless willing'),\n (-11.8102158130813, 'waist'),\n (-11.8102158130813, 'wasted money'),\n (-11.782816838893185, 'app closes'),\n (-11.782816838893185, 'bekar'),\n (-11.782816838893185, 'compensate'),\n (-11.782816838893185, 'dead game'),\n (-11.782816838893185, 'fest'),\n (-11.782816838893185, 'game froze'),\n (-11.782816838893185, 'isn supported'),\n (-11.782816838893185, 'lies'),\n (-11.782816838893185, 'macro'),\n (-11.782816838893185, 'make spend'),\n (-11.782816838893185, 'money making'),\n (-11.782816838893185, 'piss'),\n (-11.782816838893185, 'popup'),\n (-11.782816838893185, 'previous version'),\n (-11.782816838893185, 'really boring'),\n (-11.782816838893185, 'saying need'),\n (-11.782816838893185, 'time won'),\n (-11.782816838893185, 'went play'),\n (-11.782816838893185, 'worthless'),\n (-11.782816838893185, 'write review'),\n (-11.756148591811023, 'admins'),\n (-11.756148591811023, 'ads level'),\n (-11.756148591811023, 'cleared cache'),\n (-11.756148591811023, 'different app'),\n (-11.756148591811023, 'disappointed game'),\n (-11.756148591811023, 'don tell'),\n (-11.756148591811023, 'got rid'),\n (-11.756148591811023, 'isn available'),\n (-11.756148591811023, 'just boring'),\n (-11.756148591811023, 'keeps giving'),\n (-11.756148591811023, 'launching'),\n (-11.756148591811023, 'mandatory'),\n (-11.756148591811023, 'month ago'),\n (-11.756148591811023, 'recover account'),\n (-11.756148591811023, 'rental'),\n (-11.756148591811023, 'time log'),\n (-11.756148591811023, 'way adds'),\n (-11.756148591811023, 'way win'),\n (-11.756148591811023, 'wendy'),\n (-11.756148591811023, 'wrong app'),\n (-11.730173105407761, 'app anymore'),\n (-11.730173105407761, 'app crash'),\n (-11.730173105407761, 'biased'),\n (-11.730173105407761, 'bid'),\n (-11.730173105407761, 'big money'),\n (-11.730173105407761, 'does support'),\n (-11.730173105407761, 'game stupid'),\n (-11.730173105407761, 'game terrible'),\n (-11.730173105407761, 'going app'),\n (-11.730173105407761, 'got deleted'),\n (-11.730173105407761, 'money bank'),\n (-11.730173105407761, 'plarium'),\n (-11.730173105407761, 'predatory'),\n (-11.730173105407761, 'really disappointed'),\n (-11.730173105407761, 'recorded'),\n (-11.730173105407761, 'rob'),\n (-11.730173105407761, 'star reviews'),\n (-11.730173105407761, 'submitted'),\n (-11.730173105407761, 'tf'),\n (-11.730173105407761, 'unreliable'),\n (-11.730173105407761, 'work anymore'),\n (-11.704855297423473, 'app constantly'),\n (-11.704855297423473, 'attempted'),\n (-11.704855297423473, 'bait'),\n (-11.704855297423473, 'buying coins'),\n (-11.704855297423473, 'clearing cache'),\n (-11.704855297423473, 'contacted support'),\n (-11.704855297423473, 'dasher'),\n (-11.704855297423473, 'gold pass'),\n (-11.704855297423473, 'gree'),\n (-11.704855297423473, 'help support'),\n (-11.704855297423473, 'inaccurate'),\n (-11.704855297423473, 'mil'),\n (-11.704855297423473, 'near impossible'),\n (-11.704855297423473, 'owe'),\n (-11.704855297423473, 'pixel xl'),\n (-11.704855297423473, 'players spend'),\n (-11.704855297423473, 'reinstalled app'),\n (-11.704855297423473, 'ruin game'),\n (-11.704855297423473, 'ruined game'),\n (-11.704855297423473, 'unrealistic'),\n (-11.704855297423473, 'updating app'),\n (-11.6801626848331, 'accepting'),\n (-11.6801626848331, 'anymore just'),\n (-11.6801626848331, 'asian'),\n (-11.6801626848331, 'doesn update'),\n (-11.6801626848331, 'game impossible'),\n (-11.6801626848331, 'game uninstalled'),\n (-11.6801626848331, 'grabbing'),\n (-11.6801626848331, 'hbo max'),\n (-11.6801626848331, 'interrupted'),\n (-11.6801626848331, 'isn fun'),\n (-11.6801626848331, 'kfc'),\n (-11.6801626848331, 'log facebook'),\n (-11.6801626848331, 'money pit'),\n (-11.6801626848331, 'pausing'),\n (-11.6801626848331, 'pay premium'),\n (-11.6801626848331, 'remotely'),\n (-11.6801626848331, 'restricted'),\n (-11.6801626848331, 'start just'),\n (-11.6801626848331, 'stinks'),\n (-11.6801626848331, 'support help'),\n (-11.6801626848331, 'times row'),\n (-11.6801626848331, 'unacceptable'),\n (-11.6801626848331, 'unbearable'),\n (-11.6801626848331, 'uninstalling game'),\n (-11.6801626848331, 'update doesn'),\n (-11.6801626848331, 'want people'),\n (-11.6801626848331, 'willing pay'),\n (-11.6801626848331, 'wish stars'),\n (-11.6801626848331, 'working fix'),\n (-11.65606513325404, 'additionally'),\n (-11.65606513325404, 'apparent'),\n (-11.65606513325404, 'cheated'),\n (-11.65606513325404, 'conquest'),\n (-11.65606513325404, 'crash game'),\n (-11.65606513325404, 'decides'),\n (-11.65606513325404, 'doesn open'),\n (-11.65606513325404, 'dollars game'),\n (-11.65606513325404, 'fool'),\n (-11.65606513325404, 'game gone'),\n (-11.65606513325404, 'just stopped'),\n (-11.65606513325404, 'keeps stopping'),\n (-11.65606513325404, 'load time'),\n (-11.65606513325404, 'login game'),\n (-11.65606513325404, 'make account'),\n (-11.65606513325404, 'money account'),\n (-11.65606513325404, 'money people'),\n (-11.65606513325404, 'open just'),\n (-11.65606513325404, 'opened game'),\n (-11.65606513325404, 'play money'),\n (-11.65606513325404, 'promotion'),\n (-11.65606513325404, 'really sad'),\n (-11.65606513325404, 'router'),\n (-11.65606513325404, 'screen time'),\n (-11.65606513325404, 'spent dollars'),\n (-11.65606513325404, 'time ads'),\n (-11.65606513325404, 'time dont'),\n (-11.65606513325404, 'trying use'),\n (-11.65606513325404, 'uninstalled installed'),\n (-11.65606513325404, 'used able'),\n (-11.65606513325404, 'valid'),\n (-11.65606513325404, 'won connect'),\n (-11.65606513325404, 'won start'),\n (-11.632534635843847, 'account got'),\n (-11.632534635843847, 'automated'),\n (-11.632534635843847, 'bad review'),\n (-11.632534635843847, 'disgusting'),\n (-11.632534635843847, 'don believe'),\n (-11.632534635843847, 'don recommend'),\n (-11.632534635843847, 'fingerprint'),\n (-11.632534635843847, 'game downloading'),\n (-11.632534635843847, 'hours later'),\n (-11.632534635843847, 'inconvenience'),\n (-11.632534635843847, 'just delete'),\n (-11.632534635843847, 'listings'),\n (-11.632534635843847, 'payment method'),\n (-11.632534635843847, 'phone got'),\n (-11.632534635843847, 'progress gone'),\n (-11.632534635843847, 'reinstall app'),\n (-11.632534635843847, 'replies'),\n (-11.632534635843847, 'saying error'),\n (-11.632534635843847, 'scams'),\n (-11.632534635843847, 'slow load'),\n (-11.632534635843847, 'time doesn'),\n (-11.632534635843847, 'treated'),\n (-11.632534635843847, 'tried different'),\n (-11.632534635843847, 'version android'),\n (-11.632534635843847, 'win players'),\n (-11.632534635843847, 'won able'),\n (-11.632534635843847, 'working just'),\n (-11.609545117619147, 'able open'),\n (-11.609545117619147, 'ads way'),\n (-11.609545117619147, 'advert'),\n (-11.609545117619147, 'altogether'),\n (-11.609545117619147, 'bought app'),\n (-11.609545117619147, 'check internet'),\n (-11.609545117619147, 'complained'),\n (-11.609545117619147, 'didn use'),\n (-11.609545117619147, 'don try'),\n (-11.609545117619147, 'dozen'),\n (-11.609545117619147, 'game company'),\n (-11.609545117619147, 'game force'),\n (-11.609545117619147, 'game suddenly'),\n (-11.609545117619147, 'guys don'),\n (-11.609545117619147, 'headache'),\n (-11.609545117619147, 'horrendous'),\n (-11.609545117619147, 'invalid'),\n (-11.609545117619147, 'legal'),\n (-11.609545117619147, 'lost money'),\n (-11.609545117619147, 'make payment'),\n (-11.609545117619147, 'money buying'),\n (-11.609545117619147, 'non existent'),\n (-11.609545117619147, 'opening app'),\n (-11.609545117619147, 'phone doesn'),\n (-11.609545117619147, 'quit playing'),\n (-11.609545117619147, 'reloaded'),\n (-11.609545117619147, 'rep'),\n (-11.609545117619147, 'sat'),\n (-11.609545117619147, 'say don'),\n (-11.609545117619147, 'stupid game'),\n (-11.609545117619147, 'super slow'),\n (-11.609545117619147, 'trying buy'),\n (-11.609545117619147, 'upsetting'),\n (-11.587072261767089, 'account lost'),\n (-11.587072261767089, 'app updated'),\n (-11.587072261767089, 'buy packs'),\n (-11.587072261767089, 'deserve star'),\n (-11.587072261767089, 'doesn play'),\n (-11.587072261767089, 'don fix'),\n (-11.587072261767089, 'flashing'),\n (-11.587072261767089, 'force stop'),\n (-11.587072261767089, 'game worked'),\n (-11.587072261767089, 'geared'),\n (-11.587072261767089, 'mid game'),\n (-11.587072261767089, 'ongoing'),\n (-11.587072261767089, 'opt'),\n (-11.587072261767089, 'preventing'),\n (-11.587072261767089, 'restarted phone'),\n (-11.587072261767089, 'statement'),\n (-11.587072261767089, 'uninstalled app'),\n (-11.587072261767089, 'uninstaller'),\n (-11.587072261767089, 'wait days'),\n (-11.587072261767089, 'win play'),\n (-11.587072261767089, 'wont open'),\n (-11.587072261767089, '什 么'),\n (-11.565093355048313, 'account just'),\n (-11.565093355048313, 'actually game'),\n (-11.565093355048313, 'app money'),\n (-11.565093355048313, 'asking update'),\n (-11.565093355048313, 'attempting'),\n (-11.565093355048313, 'bully'),\n (-11.565093355048313, 'care game'),\n (-11.565093355048313, 'claimed'),\n (-11.565093355048313, 'connected internet'),\n (-11.565093355048313, 'doesn help'),\n (-11.565093355048313, 'error code'),\n (-11.565093355048313, 'existent'),\n (-11.565093355048313, 'hire'),\n (-11.565093355048313, 'identity'),\n (-11.565093355048313, 'kept crashing'),\n (-11.565093355048313, 'minutes game'),\n (-11.565093355048313, 'pay pay'),\n (-11.565093355048313, 'pockets'),\n (-11.565093355048313, 'popped'),\n (-11.565093355048313, 'reconnecting'),\n (-11.565093355048313, 'replied'),\n (-11.565093355048313, 'solve issue'),\n (-11.565093355048313, 'stay away'),\n (-11.565093355048313, 'terribly'),\n (-11.565093355048313, 'time win'),\n (-11.565093355048313, 'try log'),\n (-11.565093355048313, 'woke'),\n (-11.54358714982735, 'able download'),\n (-11.54358714982735, 'app said'),\n (-11.54358714982735, 'articles'),\n (-11.54358714982735, 'department'),\n (-11.54358714982735, 'detected'),\n (-11.54358714982735, 'does app'),\n (-11.54358714982735, 'ea'),\n (-11.54358714982735, 'game absolute'),\n (-11.54358714982735, 'game latest'),\n (-11.54358714982735, 'game restart'),\n (-11.54358714982735, 'getting really'),\n (-11.54358714982735, 'hundreds dollars'),\n (-11.54358714982735, 'keeps asking'),\n (-11.54358714982735, 'mile'),\n (-11.54358714982735, 'mining'),\n (-11.54358714982735, 'monetization'),\n (-11.54358714982735, 'nerfed'),\n (-11.54358714982735, 'past months'),\n (-11.54358714982735, 'play single'),\n (-11.54358714982735, 'play unless'),\n (-11.54358714982735, 'popups'),\n (-11.54358714982735, 'really hate'),\n (-11.54358714982735, 'repeats'),\n (-11.54358714982735, 'reset phone'),\n (-11.54358714982735, 'streaming service'),\n (-11.54358714982735, 'thousands dollars'),\n (-11.54358714982735, 'used work'),\n (-11.522533740629518, 'connection problem'),\n (-11.522533740629518, 'contacting'),\n (-11.522533740629518, 'days later'),\n (-11.522533740629518, 'deducted'),\n (-11.522533740629518, 'deleted app'),\n (-11.522533740629518, 'did work'),\n (-11.522533740629518, 'dl'),\n (-11.522533740629518, 'does let'),\n (-11.522533740629518, 'effectively'),\n (-11.522533740629518, 'functioning'),\n (-11.522533740629518, 'game saying'),\n (-11.522533740629518, 'game uninstall'),\n (-11.522533740629518, 'google home'),\n (-11.522533740629518, 'idiots'),\n (-11.522533740629518, 'impression'),\n (-11.522533740629518, 'insurance'),\n (-11.522533740629518, 'keeps shutting'),\n (-11.522533740629518, 'load times'),\n (-11.522533740629518, 'lose money'),\n (-11.522533740629518, 'skips'),\n (-11.522533740629518, 'update button'),\n (-11.522533740629518, 'usd'),\n (-11.522533740629518, 'used really'),\n (-11.522533740629518, 'using google'),\n (-11.522533740629518, 'verified'),\n (-11.522533740629518, 'watch adds'),\n (-11.522533740629518, '😒 😒'),\n (-11.501914453426782, 'app months'),\n (-11.501914453426782, 'bland'),\n (-11.501914453426782, 'bombarded'),\n (-11.501914453426782, 'boots'),\n (-11.501914453426782, 'burger king'),\n (-11.501914453426782, 'canceled'),\n (-11.501914453426782, 'fine just'),\n (-11.501914453426782, 'force closes'),\n (-11.501914453426782, 'gate'),\n (-11.501914453426782, 'half way'),\n (-11.501914453426782, 'haven received'),\n (-11.501914453426782, 'just able'),\n (-11.501914453426782, 'just money'),\n (-11.501914453426782, 'leading'),\n (-11.501914453426782, 'literally just'),\n (-11.501914453426782, 'lose game'),\n (-11.501914453426782, 'matter times'),\n (-11.501914453426782, 'milk'),\n (-11.501914453426782, 'nearly impossible'),\n (-11.501914453426782, 'nonstop'),\n (-11.501914453426782, 'pay extra'),\n (-11.501914453426782, 'played days'),\n (-11.501914453426782, 'porn'),\n (-11.501914453426782, 'start play'),\n (-11.501914453426782, 'takes hours'),\n (-11.501914453426782, 'transfer data'),\n (-11.501914453426782, 'trying download'),\n (-11.501914453426782, 'wallets'),\n (-11.501914453426782, 'won download'),\n (-11.501914453426782, 'work don'),\n (-11.481711746109262, 'able log'),\n (-11.481711746109262, 'access game'),\n (-11.481711746109262, 'app fine'),\n (-11.481711746109262, 'app google'),\n (-11.481711746109262, 'connected wifi'),\n (-11.481711746109262, 'dealt'),\n (-11.481711746109262, 'deletes'),\n (-11.481711746109262, 'deleting game'),\n (-11.481711746109262, 'document'),\n (-11.481711746109262, 'failure'),\n (-11.481711746109262, 'game stops'),\n (-11.481711746109262, 'getting worse'),\n (-11.481711746109262, 'google pixel'),\n (-11.481711746109262, 'idiot'),\n (-11.481711746109262, 'inconsistent'),\n (-11.481711746109262, 'just stops'),\n (-11.481711746109262, 'kicked game'),\n (-11.481711746109262, 'left game'),\n (-11.481711746109262, 'let buy'),\n (-11.481711746109262, 'opening game'),\n (-11.481711746109262, 'policy'),\n (-11.481711746109262, 'responds'),\n (-11.481711746109262, 'serve'),\n (-11.481711746109262, 'sexual'),\n (-11.481711746109262, 'sits'),\n (-11.481711746109262, 'spamming'),\n (-11.481711746109262, 'store update'),\n (-11.481711746109262, 'trying game'),\n (-11.481711746109262, 'upgrade weapons'),\n (-11.481711746109262, 'wait minutes'),\n (-11.481711746109262, 'win don'),\n (-11.481711746109262, 'win games'),\n (-11.481711746109262, '💩 💩'),\n (-11.461909118813082, 'app crashing'),\n (-11.461909118813082, 'billions'),\n (-11.461909118813082, 'bingos'),\n (-11.461909118813082, 'blows'),\n (-11.461909118813082, 'booked'),\n (-11.461909118813082, 'coins just'),\n (-11.461909118813082, 'controls bad'),\n (-11.461909118813082, 'ensure'),\n (-11.461909118813082, 'game account'),\n (-11.461909118813082, 'game chance'),\n (-11.461909118813082, 'green light'),\n (-11.461909118813082, 'home page'),\n (-11.461909118813082, 'hours just'),\n (-11.461909118813082, 'incentive'),\n (-11.461909118813082, 'lagged'),\n (-11.461909118813082, 'lotr'),\n (-11.461909118813082, 'older version'),\n (-11.461909118813082, 'place order'),\n (-11.461909118813082, 'play account'),\n (-11.461909118813082, 'rebooting'),\n (-11.461909118813082, 'slow game'),\n (-11.461909118813082, 'temporary'),\n (-11.461909118813082, 'time tried'),\n (-11.461909118813082, 'united states'),\n (-11.461909118813082, 'update don'),\n (-11.461909118813082, '😤 😤'),\n (-11.442491032955981, 'accurately'),\n (-11.442491032955981, 'actively'),\n (-11.442491032955981, 'ads watch'),\n (-11.442491032955981, 'aint'),\n (-11.442491032955981, 'annoying game'),\n (-11.442491032955981, 'answered'),\n (-11.442491032955981, 'app buy'),\n (-11.442491032955981, 'app order'),\n (-11.442491032955981, 'bf'),\n (-11.442491032955981, 'cab'),\n (-11.442491032955981, 'covet'),\n (-11.442491032955981, 'detect'),\n (-11.442491032955981, 'didn receive'),\n (-11.442491032955981, 'game ask'),\n (-11.442491032955981, 'game complete'),\n (-11.442491032955981, 'game log'),\n (-11.442491032955981, 'game weeks'),\n (-11.442491032955981, 'hard earned'),\n (-11.442491032955981, 'infuriating'),\n (-11.442491032955981, 'ive tried'),\n (-11.442491032955981, 'linking'),\n (-11.442491032955981, 'loading screens'),\n (-11.442491032955981, 'loyalty'),\n (-11.442491032955981, 'message saying'),\n (-11.442491032955981, 'obnoxious'),\n (-11.442491032955981, 'paramount'),\n (-11.442491032955981, 'pass levels'),\n (-11.442491032955981, 'purely'),\n (-11.442491032955981, 'red light'),\n (-11.442491032955981, 'reinstalled game'),\n (-11.442491032955981, 'responsible'),\n (-11.442491032955981, 'rubbish'),\n (-11.442491032955981, 'scopely'),\n (-11.442491032955981, 'secs'),\n (-11.442491032955981, 'sticking'),\n (-11.442491032955981, 'unhappy'),\n (-11.442491032955981, 'update makes'),\n (-11.442491032955981, 'yearly'),\n (-11.423442837985286, 'bothered'),\n (-11.423442837985286, 'buy premium'),\n (-11.423442837985286, 'confirmation'),\n (-11.423442837985286, 'damn game'),\n (-11.423442837985286, 'fund'),\n (-11.423442837985286, 'game beginning'),\n (-11.423442837985286, 'game dead'),\n (-11.423442837985286, 'game wouldn'),\n (-11.423442837985286, 'internal'),\n (-11.423442837985286, 'just goes'),\n (-11.423442837985286, 'know fix'),\n (-11.423442837985286, 'letting play'),\n (-11.423442837985286, 'level don'),\n (-11.423442837985286, 'needs fix'),\n (-11.423442837985286, 'notified'),\n (-11.423442837985286, 'reels'),\n (-11.423442837985286, 'review star'),\n (-11.423442837985286, 'shipped'),\n (-11.423442837985286, 'sluggish'),\n (-11.423442837985286, 'starting game'),\n (-11.423442837985286, 'supported app'),\n (-11.423442837985286, 'used like'),\n (-11.404750704973134, 'activated'),\n (-11.404750704973134, 'actual money'),\n (-11.404750704973134, 'adds game'),\n (-11.404750704973134, 'app days'),\n (-11.404750704973134, 'app dont'),\n (-11.404750704973134, 'app install'),\n (-11.404750704973134, 'buy chips'),\n (-11.404750704973134, 'continuing'),\n (-11.404750704973134, 'destroying'),\n (-11.404750704973134, 'fix play'),\n (-11.404750704973134, 'game constant'),\n (-11.404750704973134, 'game cost'),\n (-11.404750704973134, 'game die'),\n (-11.404750704973134, 'getting kicked'),\n (-11.404750704973134, 'hacks'),\n (-11.404750704973134, 'hard navigate'),\n (-11.404750704973134, 'hype'),\n (-11.404750704973134, 'impossible win'),\n (-11.404750704973134, 'installed app'),\n (-11.404750704973134, 'money going'),\n (-11.404750704973134, 'opened app'),\n (-11.404750704973134, 'play says'),\n (-11.404750704973134, 'player base'),\n (-11.404750704973134, 'potions'),\n (-11.404750704973134, 'restrictions'),\n (-11.404750704973134, 'ripoff'),\n (-11.404750704973134, 'scrolls'),\n (-11.404750704973134, 'sent email'),\n (-11.404750704973134, 'significantly'),\n (-11.404750704973134, 'signs'),\n (-11.404750704973134, 'stole'),\n (-11.404750704973134, 'syncing'),\n (-11.404750704973134, 'try download'),\n (-11.404750704973134, 'use different'),\n (-11.404750704973134, 'user experience'),\n (-11.404750704973134, 've uninstalled'),\n (-11.404750704973134, 'visa'),\n (-11.404750704973134, 'voodoo'),\n (-11.386401566304936, 'aggressive'),\n (-11.386401566304936, 'bitcoin'),\n (-11.386401566304936, 'borrow'),\n (-11.386401566304936, 'buy diamonds'),\n (-11.386401566304936, 'chore'),\n (-11.386401566304936, 'claiming'),\n (-11.386401566304936, 'country supported'),\n (-11.386401566304936, 'dirty'),\n (-11.386401566304936, 'disconnecting'),\n (-11.386401566304936, 'dont use'),\n (-11.386401566304936, 'echo'),\n (-11.386401566304936, 'entered'),\n (-11.386401566304936, 'everytime open'),\n (-11.386401566304936, 'failing'),\n (-11.386401566304936, 'just did'),\n (-11.386401566304936, 'make changes'),\n (-11.386401566304936, 'math'),\n (-11.386401566304936, 'negative reviews'),\n (-11.386401566304936, 'pauses'),\n (-11.386401566304936, 'really sucks'),\n (-11.386401566304936, 'redmi note'),\n (-11.386401566304936, 'requesting'),\n (-11.386401566304936, 'strongest'),\n (-11.386401566304936, 'takes minutes'),\n (-11.386401566304936, 'tried play'),\n (-11.386401566304936, 'unless buy'),\n (-11.386401566304936, '😐 😐'),\n (-11.368383060802259, 'able access'),\n (-11.368383060802259, 'ads pay'),\n (-11.368383060802259, 'amazon prime'),\n (-11.368383060802259, 'app gets'),\n (-11.368383060802259, 'approve'),\n (-11.368383060802259, 'autoplay'),\n (-11.368383060802259, 'bad bad'),\n (-11.368383060802259, 'beginning game'),\n (-11.368383060802259, 'cycle'),\n (-11.368383060802259, 'dare'),\n (-11.368383060802259, 'game auto'),\n (-11.368383060802259, 'game internet'),\n (-11.368383060802259, 'game save'),\n (-11.368383060802259, 'game went'),\n (-11.368383060802259, 'having app'),\n (-11.368383060802259, 'inconvenient'),\n (-11.368383060802259, 'installation'),\n (-11.368383060802259, 'internet play'),\n (-11.368383060802259, 'leads'),\n (-11.368383060802259, 'lost phone'),\n (-11.368383060802259, 'meal'),\n (-11.368383060802259, 'months later'),\n (-11.368383060802259, 'occurs'),\n (-11.368383060802259, 'officially'),\n (-11.368383060802259, 'outrageous'),\n (-11.368383060802259, 'phone new'),\n (-11.368383060802259, 'playback'),\n (-11.368383060802259, 'quitting'),\n (-11.368383060802259, 'reason play'),\n (-11.368383060802259, 'rewards game'),\n (-11.368383060802259, 'screenshots'),\n (-11.368383060802259, 'spent time'),\n (-11.368383060802259, 'storage space'),\n (-11.368383060802259, 'super annoying'),\n (-11.368383060802259, 'takes longer'),\n (-11.368383060802259, 'try use'),\n (-11.368383060802259, 'unusable'),\n (-11.368383060802259, 'win time'),\n (-11.368383060802259, 'wont work'),\n (-11.35068348370286, 'acts'),\n (-11.35068348370286, 'app installed'),\n (-11.35068348370286, 'avail'),\n (-11.35068348370286, 'begining'),\n (-11.35068348370286, 'blah'),\n (-11.35068348370286, 'buy app'),\n (-11.35068348370286, 'clear cache'),\n (-11.35068348370286, 'computers'),\n (-11.35068348370286, 'did make'),\n (-11.35068348370286, 'does make'),\n (-11.35068348370286, 'don update'),\n (-11.35068348370286, 'game cash'),\n (-11.35068348370286, 'game match'),\n (-11.35068348370286, 'game watch'),\n (-11.35068348370286, 'halloween event'),\n (-11.35068348370286, 'hoped'),\n (-11.35068348370286, 'hours play'),\n (-11.35068348370286, 'im stuck'),\n (-11.35068348370286, 'incorrect'),\n (-11.35068348370286, 'irritated'),\n (-11.35068348370286, 'just crashes'),\n (-11.35068348370286, 'methods'),\n (-11.35068348370286, 'need purchase'),\n (-11.35068348370286, 'newest update'),\n (-11.35068348370286, 'people buy'),\n (-11.35068348370286, 'play won'),\n (-11.35068348370286, 'promotions'),\n (-11.35068348370286, 'reads'),\n (-11.35068348370286, 'refunds'),\n (-11.35068348370286, 'replacement'),\n (-11.35068348370286, 'ripped'),\n (-11.35068348370286, 'rs'),\n (-11.35068348370286, 'tge'),\n (-11.35068348370286, 'times ve'),\n (-11.35068348370286, 'went wrong'),\n (-11.35068348370286, 'xl'),\n (-11.35068348370286, '下'),\n (-11.35068348370286, '😠 😡'),\n (-11.35068348370286, '😡 😠'),\n (-11.33329174099099, 'ads time'),\n (-11.33329174099099, 'applied'),\n (-11.33329174099099, 'bind'),\n (-11.33329174099099, 'bit money'),\n (-11.33329174099099, 'blind'),\n (-11.33329174099099, 'chance win'),\n (-11.33329174099099, 'coins game'),\n (-11.33329174099099, 'days game'),\n (-11.33329174099099, 'does help'),\n (-11.33329174099099, 'execution'),\n (-11.33329174099099, 'factory'),\n (-11.33329174099099, 'finish level'),\n (-11.33329174099099, 'game breaking'),\n (-11.33329174099099, 'game multiple'),\n (-11.33329174099099, 'game opening'),\n (-11.33329174099099, 'game wants'),\n (-11.33329174099099, 'happend'),\n (-11.33329174099099, 'hourly'),\n (-11.33329174099099, 'items game'),\n (-11.33329174099099, 'just freezes'),\n (-11.33329174099099, 'just update'),\n (-11.33329174099099, 'let make'),\n (-11.33329174099099, 'losses'),\n (-11.33329174099099, 'money playing'),\n (-11.33329174099099, 'nao'),\n (-11.33329174099099, 'need watch'),\n (-11.33329174099099, 'oops'),\n (-11.33329174099099, 'pm'),\n (-11.33329174099099, 'preview'),\n (-11.33329174099099, 'pushed'),\n (-11.33329174099099, 'redownloaded'),\n (-11.33329174099099, 'speaker'),\n (-11.33329174099099, 'subscribed'),\n (-11.33329174099099, 'tape'),\n (-11.33329174099099, 'technically'),\n (-11.33329174099099, 'think ll'),\n (-11.33329174099099, 'tried game'),\n (-11.33329174099099, 'updated version'),\n (-11.33329174099099, 'uploaded'),\n (-11.33329174099099, 'uploading'),\n (-11.33329174099099, 'using samsung'),\n (-11.33329174099099, 'weaker'),\n (-11.33329174099099, 'week ago'),\n (-11.31619730763169, 'account game'),\n (-11.31619730763169, 'aggravating'),\n (-11.31619730763169, 'app bad'),\n (-11.31619730763169, 'app did'),\n (-11.31619730763169, 'backwards'),\n (-11.31619730763169, 'bull'),\n (-11.31619730763169, 'cheater'),\n (-11.31619730763169, 'crashes game'),\n (-11.31619730763169, 'days just'),\n (-11.31619730763169, 'don just'),\n (-11.31619730763169, 'fourth'),\n (-11.31619730763169, 'fun anymore'),\n (-11.31619730763169, 'game deleted'),\n ...]"
     },
     "execution_count": 22,
     "metadata": {},
     "output_type": "execute_result"
    }
   ],
   "source": [
    "z = zip(model.feature_log_prob_[1,:], vectorizer.get_feature_names_out())\n",
    "s = list(sorted(z,  key=lambda it: it[0]))\n",
    "print(f'Negative: %s' % str(s[:100]))\n",
    "print(f'Positive: %s' % str(s[-100:]))"
   ],
   "metadata": {
    "collapsed": false,
    "pycharm": {
     "name": "#%%\n"
    }
   }
  },
  {
   "cell_type": "code",
   "execution_count": null,
   "outputs": [],
   "source": [],
   "metadata": {
    "collapsed": false,
    "pycharm": {
     "name": "#%%\n"
    }
   }
  }
 ],
 "metadata": {
  "kernelspec": {
   "name": "venv",
   "language": "python",
   "display_name": "Python (review_classifier)"
  },
  "language_info": {
   "codemirror_mode": {
    "name": "ipython",
    "version": 2
   },
   "file_extension": ".py",
   "mimetype": "text/x-python",
   "name": "python",
   "nbconvert_exporter": "python",
   "pygments_lexer": "ipython2",
   "version": "2.7.6"
  }
 },
 "nbformat": 4,
 "nbformat_minor": 0
}